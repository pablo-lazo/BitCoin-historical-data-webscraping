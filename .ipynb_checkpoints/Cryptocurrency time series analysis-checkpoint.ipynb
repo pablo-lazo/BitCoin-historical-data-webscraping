{
 "cells": [
  {
   "cell_type": "code",
   "execution_count": 1,
   "metadata": {},
   "outputs": [],
   "source": [
    "import requests\n",
    "import bs4\n",
    "import csv"
   ]
  },
  {
   "cell_type": "code",
   "execution_count": 27,
   "metadata": {},
   "outputs": [],
   "source": [
    "dateList = []\n",
    "highList = []\n",
    "lowList = []\n",
    "closeList = []\n",
    "\n",
    "r = requests.get(\"https://coinmarketcap.com/currencies/bitcoin/historical-data/?start=20130428&end=20201028\")\n",
    "soup = bs4.BeautifulSoup(r.text, \"lxml\")"
   ]
  },
  {
   "cell_type": "code",
   "execution_count": 28,
   "metadata": {},
   "outputs": [],
   "source": [
    "tr = soup.find_all(\"tr\",{\"class\":\"cmc-table-row\"})\n",
    "\n",
    "for item in tr:\n",
    "    dateList.append(item.find(\"td\",{\"class\":\"cmc-table__cell cmc-table__cell--sticky cmc-table__cell--left\"}).text)\n",
    "    highList.append(item.find_all(\"td\")[2].text)\n",
    "    lowList.append(item.find_all(\"td\")[3].text)\n",
    "    closeList.append(item.find_all(\"td\")[4].text)"
   ]
  },
  {
   "cell_type": "code",
   "execution_count": 29,
   "metadata": {},
   "outputs": [],
   "source": [
    "row0 = [\"date\", \"high\", \"low\", \"close\"]\n",
    "rows = zip(dateList, highList, lowList, closeList)\n",
    "\n",
    "with open(\"CoinMarketCap_BTC.csv\", \"w\", encoding=\"UTF-8\", newline=\"\") as csvfile:\n",
    "    links_writer = csv.writer(csvfile)\n",
    "    links_writer.writerow(row0)\n",
    "    for item in rows:\n",
    "        links_writer.writerow(item)"
   ]
  }
 ],
 "metadata": {
  "kernelspec": {
   "display_name": "Python 3",
   "language": "python",
   "name": "python3"
  },
  "language_info": {
   "codemirror_mode": {
    "name": "ipython",
    "version": 3
   },
   "file_extension": ".py",
   "mimetype": "text/x-python",
   "name": "python",
   "nbconvert_exporter": "python",
   "pygments_lexer": "ipython3",
   "version": "3.7.6"
  }
 },
 "nbformat": 4,
 "nbformat_minor": 4
}
